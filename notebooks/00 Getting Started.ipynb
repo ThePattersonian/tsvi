{
 "cells": [
  {
   "cell_type": "markdown",
   "id": "f2c45248-137b-41fb-b79a-459c90e027d1",
   "metadata": {},
   "source": [
    "This notebook should contain the steps to get the mth5 time series viewer running."
   ]
  },
  {
   "cell_type": "markdown",
   "id": "1ba102b2-1f31-4e56-a23c-6625d87990b5",
   "metadata": {},
   "source": [
    "The following step should work from the command line in Linux or MacOS. For Windows, open [Git Bash](https://gitforwindows.org/) and run the line from there."
   ]
  },
  {
   "cell_type": "code",
   "execution_count": null,
   "id": "f8ee46a3-0a8e-4d46-8e1f-2b575e4e6077",
   "metadata": {},
   "outputs": [],
   "source": [
    "git clone https://github.com/thepattersonian/tsvi.git"
   ]
  },
  {
   "cell_type": "markdown",
   "id": "912b3db6-e123-434b-bfb9-030169b9d99a",
   "metadata": {},
   "source": [
    "This line should be changed once the project gets moved to a USGS repository."
   ]
  },
  {
   "cell_type": "markdown",
   "id": "92ff996e-eaa7-49ca-ac7f-15809c94ed9d",
   "metadata": {},
   "source": [
    "Next, create an environment to work from using the following command line prompt. On Windows use [Anaconda Prompt](https://docs.anaconda.com/anaconda/install/windows/)."
   ]
  },
  {
   "cell_type": "code",
   "execution_count": null,
   "id": "96847387-52a5-43ba-806d-a603a770169c",
   "metadata": {},
   "outputs": [],
   "source": [
    "conda create -n tsvi python=3.9"
   ]
  },
  {
   "cell_type": "markdown",
   "id": "7602ee07-1c60-4453-8f8c-96c4cf8f4793",
   "metadata": {},
   "source": [
    "Then activate the environment with the following command:"
   ]
  },
  {
   "cell_type": "code",
   "execution_count": null,
   "id": "762473ea-624e-4815-ab24-da15b54dd852",
   "metadata": {},
   "outputs": [],
   "source": [
    "conda activate tsvi"
   ]
  },
  {
   "cell_type": "markdown",
   "id": "8d1e72e3-768e-4aa6-87ec-3888239317b7",
   "metadata": {},
   "source": [
    "Install the dependencies and jupyter-lab as well:"
   ]
  },
  {
   "cell_type": "code",
   "execution_count": null,
   "id": "37906b82-e0ea-4979-9e9e-15051837f3d3",
   "metadata": {},
   "outputs": [],
   "source": [
    "cd tsvi/\n",
    "pip install -e .\n",
    "pip install jupyter-lab"
   ]
  },
  {
   "cell_type": "markdown",
   "id": "3cc0aa2f-ca8c-4493-a482-b6ab94517de6",
   "metadata": {},
   "source": [
    "Allow jupyter to see your environment:"
   ]
  },
  {
   "cell_type": "code",
   "execution_count": null,
   "id": "10976798-323c-4875-afa0-6f79b200c326",
   "metadata": {},
   "outputs": [],
   "source": [
    "python -m ipykernel install --user --name=tsvi"
   ]
  },
  {
   "cell_type": "markdown",
   "id": "9dcb300f-9d20-4bfe-ad25-e7454b432e94",
   "metadata": {},
   "source": [
    "At this point, you should be able to start executing .ipynb notebooks from jupyter-lab."
   ]
  },
  {
   "cell_type": "markdown",
   "id": "69fbd9b3-e9af-41a0-abf6-493066299afb",
   "metadata": {},
   "source": [
    "Other useful installs for this project include:"
   ]
  },
  {
   "cell_type": "code",
   "execution_count": null,
   "id": "bb21dbfd-8d1a-4169-b3bf-b35ffee51f22",
   "metadata": {},
   "outputs": [],
   "source": [
    "pip install git+https://github.com/simpeg/aurora.git\n",
    "pip install git+https://github.com/kujaku11/mth5.git"
   ]
  },
  {
   "cell_type": "code",
   "execution_count": null,
   "id": "941ba7d9-a7d3-4dce-9124-47702424f095",
   "metadata": {},
   "outputs": [],
   "source": []
  },
  {
   "cell_type": "code",
   "execution_count": null,
   "id": "45697621-26fc-485f-a592-99bcda340783",
   "metadata": {},
   "outputs": [],
   "source": []
  },
  {
   "cell_type": "markdown",
   "id": "ed1c749c-fa39-4779-90cc-7fd4af7f8b7a",
   "metadata": {},
   "source": [
    "# Tsvi"
   ]
  },
  {
   "cell_type": "markdown",
   "id": "f2460973-d41b-43c1-b67c-88e5c78ca229",
   "metadata": {
    "tags": []
   },
   "source": [
    "## 1. Tsvi\n",
    "\n",
    "    1. mth5_tsviewer\n",
    "        1. __init__.py\n",
    "        2. helpers.py\n",
    "            - A set of helper functions for mth5_viewer_v1.py\n",
    "        3. mth5_viewer.ipynb\n",
    "            - A slightly older version of the mth5_viewer in jupyter notebook format\n",
    "        4. mth5_viewer_v1.py\n",
    "            - The most recent iteration of the mth5_viewer as a python file\n",
    "        \n",
    "    2. tsviewer\n",
    "        1. datasources\n",
    "            - A collection of classes for different data sources\n",
    "            1. __init__.py\n",
    "            2. csv.py\n",
    "                - Bruno's class for handling .csv\n",
    "            3. polarutils.py\n",
    "                - Bruno's class for handling polars\n",
    "            4. synthetic.py\n",
    "                - Bruno's class for handling synthetic\n",
    "            5. tables.py\n",
    "                - Bruno's class for handling tabular data\n",
    "        2. __init__.py\n",
    "        3. core.py\n",
    "            - Bruno's tsviewer\n",
    "        4. layout.py\n",
    "            - Layout for Bruno's tsviewer\n",
    "        5. plots.py\n",
    "            - Beginnings of a plot class for Bruno's tsviewer\n",
    "        \n",
    "    3. __init__.py\n",
    "        \n",
    "\n",
    "## 2. Notebooks\n",
    "\n",
    "    1. csv_data\n",
    "        1. 1304_0_0.csv\n",
    "            - Example .csv data\n",
    "    2. 00 Getting Started.ipynb\n",
    "        - You are here.\n",
    "    3. 01_ExploringDatashader.ipynb\n",
    "        - Bruno's initial exploration of Datashader\n",
    "    4. 02_PrototypingLayout.ipynb\n",
    "        - Bruno's prototype of a layout\n",
    "    5. 20_Reading_and_accessing_mth5.ipynb\n",
    "        - Ian's initial exploration of the mth5 file format\n",
    "    6. Annotator_Musings.ipynb\n",
    "        - ChatGPT generated version of Holoviews Annotators\n",
    "    7. CSV_TSVI.ipynb\n",
    "        - A timeseries viewer for .csv files\n",
    "    8. Plot.ipynb\n",
    "        - Ian's explorations of Panel and Holoviews plots\n",
    "    9. Tsvi_Golden.ipynb\n",
    "        - A deprecated version of the mth5 timeseries viewer\n",
    "    10. mth5_viewer.ipynb\n",
    "        - A deprecated version of the mth5 timeseries viewer\n",
    "    \n",
    "\n",
    "## 3. Test\n",
    "\n",
    "    1. test_helper_functions.py\n",
    "        -Unit testing\n",
    "\n",
    "\n",
    "## 4. .gitignore\n",
    "\n",
    "## 5. setup.py"
   ]
  },
  {
   "cell_type": "code",
   "execution_count": null,
   "id": "ee6d4974-f043-4569-aaad-936484378169",
   "metadata": {},
   "outputs": [],
   "source": []
  }
 ],
 "metadata": {
  "kernelspec": {
   "display_name": "Python 3 (ipykernel)",
   "language": "python",
   "name": "python3"
  },
  "language_info": {
   "codemirror_mode": {
    "name": "ipython",
    "version": 3
   },
   "file_extension": ".py",
   "mimetype": "text/x-python",
   "name": "python",
   "nbconvert_exporter": "python",
   "pygments_lexer": "ipython3",
   "version": "3.9.15"
  }
 },
 "nbformat": 4,
 "nbformat_minor": 5
}
