{
 "cells": [
  {
   "cell_type": "markdown",
   "id": "f2c45248-137b-41fb-b79a-459c90e027d1",
   "metadata": {},
   "source": [
    "This notebook should contain the steps to get the mth5 time series viewer running."
   ]
  },
  {
   "cell_type": "markdown",
   "id": "1ba102b2-1f31-4e56-a23c-6625d87990b5",
   "metadata": {},
   "source": [
    "The following step should work from the command line in Linux or MacOS. For Windows, open [Git Bash](https://gitforwindows.org/) and run the line from there."
   ]
  },
  {
   "cell_type": "code",
   "execution_count": null,
   "id": "f8ee46a3-0a8e-4d46-8e1f-2b575e4e6077",
   "metadata": {},
   "outputs": [],
   "source": [
    "git clone https://github.com/thepattersonian/tsvi.git"
   ]
  },
  {
   "cell_type": "markdown",
   "id": "912b3db6-e123-434b-bfb9-030169b9d99a",
   "metadata": {},
   "source": [
    "This line should be changed once the project gets moved to a USGS repository."
   ]
  },
  {
   "cell_type": "markdown",
   "id": "92ff996e-eaa7-49ca-ac7f-15809c94ed9d",
   "metadata": {},
   "source": [
    "Next, create an environment to work from using the following command line prompt. On Windows use [Anaconda Prompt](...)"
   ]
  },
  {
   "cell_type": "code",
   "execution_count": null,
   "id": "96847387-52a5-43ba-806d-a603a770169c",
   "metadata": {},
   "outputs": [],
   "source": [
    "conda create -n tsvi python=3.9"
   ]
  },
  {
   "cell_type": "code",
   "execution_count": null,
   "id": "af3b9d3b-6683-4236-a2c7-5572f04698c8",
   "metadata": {},
   "outputs": [],
   "source": []
  },
  {
   "cell_type": "code",
   "execution_count": null,
   "id": "0505b8b2-f89a-4947-b2ac-6b7c8a3e7b99",
   "metadata": {},
   "outputs": [],
   "source": [
    "Create an Environment to work from:\n",
    "conda create -n tsvi python=3.9\n",
    "Activate your environment:\n",
    "conda activate tsvi\n",
    "Install the dependencies\n",
    "cd tsvi/\n",
    "pip install -e .\n",
    "Install jupyter-lab as well \n",
    "pip install jupyter-lab\n",
    "Allow jupyter to see your environment\n",
    "python -m ipykernel install --user --name=tsvi\n",
    "Now you can start executing jupyter notebooks\n",
    "Other installs:\n",
    "pip install git+https://github.com/simpeg/aurora.git\n",
    "pip install git+https://github.com/kujaku11/mth5.git\n"
   ]
  },
  {
   "cell_type": "code",
   "execution_count": null,
   "id": "97098a94-6091-4680-a4c8-bae4b442a6b8",
   "metadata": {},
   "outputs": [],
   "source": [
    "Create an Environment to work from:"
   ]
  }
 ],
 "metadata": {
  "kernelspec": {
   "display_name": "Python 3 (ipykernel)",
   "language": "python",
   "name": "python3"
  },
  "language_info": {
   "codemirror_mode": {
    "name": "ipython",
    "version": 3
   },
   "file_extension": ".py",
   "mimetype": "text/x-python",
   "name": "python",
   "nbconvert_exporter": "python",
   "pygments_lexer": "ipython3",
   "version": "3.9.15"
  }
 },
 "nbformat": 4,
 "nbformat_minor": 5
}
