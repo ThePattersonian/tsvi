{
 "cells": [
  {
   "cell_type": "markdown",
   "id": "fd94d8b3-8a03-44f8-be5a-3c3e1260b9fb",
   "metadata": {},
   "source": [
    "Karl's recommendations for documentation:\n",
    "\n",
    "- Add screenshots (2-10)\n",
    "\n",
    "- From from existing .py make .ipynb and make it work\n",
    "\n",
    "- panel serve command"
   ]
  },
  {
   "cell_type": "code",
   "execution_count": null,
   "id": "29be0dd9-50e7-4b95-a249-2a1e3e63bd58",
   "metadata": {},
   "outputs": [],
   "source": [
    "1A. Documentation: Add some screenshots of teh current version with some explaintory text.  2-10 of them\n",
    "1B: Documentation:\n",
    "From existing .py file, dump to an ipynb, and make it work -- commit that ipynb"
   ]
  },
  {
   "cell_type": "code",
   "execution_count": null,
   "id": "87ab8074-e57e-450d-8ed6-b0496ebfa6b9",
   "metadata": {},
   "outputs": [],
   "source": []
  }
 ],
 "metadata": {
  "kernelspec": {
   "display_name": "Python 3 (ipykernel)",
   "language": "python",
   "name": "python3"
  },
  "language_info": {
   "codemirror_mode": {
    "name": "ipython",
    "version": 3
   },
   "file_extension": ".py",
   "mimetype": "text/x-python",
   "name": "python",
   "nbconvert_exporter": "python",
   "pygments_lexer": "ipython3",
   "version": "3.9.15"
  }
 },
 "nbformat": 4,
 "nbformat_minor": 5
}
