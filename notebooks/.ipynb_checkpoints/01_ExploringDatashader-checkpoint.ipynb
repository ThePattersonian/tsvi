{
 "cells": [
  {
   "cell_type": "code",
   "execution_count": null,
   "id": "9ade0270-7247-40fd-80d8-f8c74257da10",
   "metadata": {},
   "outputs": [],
   "source": [
    "# install requirements"
   ]
  },
  {
   "cell_type": "code",
   "execution_count": null,
   "id": "72683089-f470-44fc-a308-9c25081a2d32",
   "metadata": {
    "tags": []
   },
   "outputs": [],
   "source": [
    "!pip install panel holoviews datashader h5py numpy pandas toolz"
   ]
  },
  {
   "cell_type": "code",
   "execution_count": null,
   "id": "fe981fe2-e95f-4138-94c6-689e62f145ff",
   "metadata": {},
   "outputs": [],
   "source": [
    "# get a test file"
   ]
  },
  {
   "cell_type": "code",
   "execution_count": null,
   "id": "46a28f53-e4ed-421e-82bc-439b34b7c213",
   "metadata": {},
   "outputs": [],
   "source": [
    "!curl 'https://www.sciencebase.gov/catalog/file/get/60dba8fad34e3a6dca1a365c?f=__disk__ca%2F01%2F4a%2Fca014a56813238260e5daf8abc66b4399794db07' --compressed  --output ~/gv153.h5"
   ]
  },
  {
   "cell_type": "code",
   "execution_count": null,
   "id": "0bfa4172-7401-4fe5-ac06-202bf03de41f",
   "metadata": {},
   "outputs": [],
   "source": [
    "from pathlib import Path\n",
    "\n",
    "import pandas as pd\n",
    "import holoviews as hv\n",
    "from holoviews.operation.datashader import datashade\n",
    "import datashader as ds\n",
    "import  h5py\n",
    "import numpy as np\n",
    "from toolz import keyfilter, keymap, groupby\n",
    "import psutil,  os\n",
    "\n",
    "hv.extension('bokeh')"
   ]
  },
  {
   "cell_type": "code",
   "execution_count": null,
   "id": "b0451d8d-603d-4d7a-b628-bb524ef611b2",
   "metadata": {},
   "outputs": [],
   "source": [
    "from panel.layout.gridstack import GridSpec\n",
    "import panel as pn\n",
    "\n",
    "pn.extension()"
   ]
  },
  {
   "cell_type": "code",
   "execution_count": null,
   "id": "e003513e-8962-4dd8-8d57-d601ed54f1b4",
   "metadata": {
    "tags": []
   },
   "outputs": [],
   "source": [
    "file = h5py.File(Path.home() / 'gv153.h5')\n",
    "\n",
    "datasets = {}\n",
    "\n",
    "def add_dataset_to_dict(k,v):\n",
    "    if isinstance(v, h5py.Dataset):\n",
    "        datasets[k] = v\n",
    "\n",
    "file.visititems(add_dataset_to_dict)"
   ]
  },
  {
   "cell_type": "code",
   "execution_count": null,
   "id": "bcaa4d90-9fe0-4202-a9b6-4ebf28eb3d80",
   "metadata": {},
   "outputs": [],
   "source": [
    "df = pd.DataFrame(keymap(lambda s: s[-2:], keyfilter(lambda s: s.startswith('Survey/Stations/gv153/000'), datasets)))"
   ]
  },
  {
   "cell_type": "code",
   "execution_count": null,
   "id": "abd2b1a6-3bda-472c-ae0d-7154ea2151db",
   "metadata": {},
   "outputs": [],
   "source": [
    "df2 = pd.DataFrame(keymap(lambda s: s[-2:], keyfilter(lambda s: s.startswith('Survey/Stations/gv153/001'), datasets)))"
   ]
  },
  {
   "cell_type": "code",
   "execution_count": null,
   "id": "3aded73d-60ff-43a7-83dc-30b237130375",
   "metadata": {},
   "outputs": [],
   "source": [
    "# fake time column so these data have an overlap"
   ]
  },
  {
   "cell_type": "code",
   "execution_count": null,
   "id": "795ff7d6-781b-48b5-90d5-b558b6c7e72a",
   "metadata": {},
   "outputs": [],
   "source": [
    "df['time'] = pd.to_datetime(np.arange(len(df)) * 999999 + 1251507751000000000)"
   ]
  },
  {
   "cell_type": "code",
   "execution_count": null,
   "id": "3decfc4f-5bf6-4d55-a889-b8315d8d39f8",
   "metadata": {},
   "outputs": [],
   "source": [
    "df2['time'] = pd.to_datetime(np.arange(len(df2)) * 999899 + 1251508751000000000)"
   ]
  },
  {
   "cell_type": "code",
   "execution_count": null,
   "id": "0a8fc540-bb08-48c8-9c6e-93c1e4d21045",
   "metadata": {},
   "outputs": [],
   "source": [
    "\n",
    "# In case we need an embedded database we can use duckdb\n",
    "\n",
    "# !pip install duckdb\n",
    "\n",
    "# import duckdb\n",
    "# database = duckdb.connect(str(Path.home() / 'tsvi.duckdb'))\n",
    "# database.execute(\"CREATE TABLE \\'Survey/Stations/gv153/000\\' AS SELECT * FROM df\")\n",
    "# df  = database.execute('SELECT * FROM \"Survey/Stations/gv153/000\" ORDER BY time').fetchdf()"
   ]
  },
  {
   "cell_type": "code",
   "execution_count": null,
   "id": "242ec3f6-6122-4898-a836-58e48d17bb13",
   "metadata": {},
   "outputs": [],
   "source": [
    "import  psutil"
   ]
  },
  {
   "cell_type": "code",
   "execution_count": null,
   "id": "62ccb8e3-7624-4f4c-914d-5c9fabb81a5a",
   "metadata": {},
   "outputs": [],
   "source": [
    "def create_curve(df, time_column='time', y_column='ex', title=None):\n",
    "    return datashade(hv.Curve(df.loc[:, [time_column, y_column]]), cnorm='linear', cmap='gray', aggregator=ds.count(), min_alpha=125).opts(xlabel=time_column, ylabel=y_column, title=title or y_column)\n",
    "\n",
    "def set_param_to_all(layout, **opts):\n",
    "    [v.param.set_param(**opts) for v in layout]\n",
    "    \n",
    "\n",
    "def resouce_usage_psutil():\n",
    "    # process = psutil.Process(os.getpid())\n",
    "    return psutil.virtual_memory().percent, psutil.cpu_percent()\n",
    "\n",
    "cpu_usage_trend = pn.indicators.Trend(\n",
    "    title='CPU Usage (%)', data={'x': np.arange(50), 'y': np.zeros(50)}, width=100, height=150, plot_color='green'\n",
    ")\n",
    "mem_usage_trend = pn.indicators.Trend(\n",
    "    title='Memory Usage (%)', data={'x': np.arange(50), 'y': np.zeros(50)}, width=100, height=150, plot_color='red'\n",
    ")\n",
    "\n",
    "def stream_resources():\n",
    "    mem, cpu = resouce_usage_psutil()\n",
    "    cpu_usage_trend.stream({'x': [cpu_usage_trend.data['x'][-1]+1], 'y': [cpu]}, rollover=50)\n",
    "    mem_usage_trend.stream({'x': [mem_usage_trend.data['x'][-1]+1], 'y': [mem]}, rollover=50)\n",
    "\n",
    "pn.state.add_periodic_callback(stream_resources, period=1000, count=None)"
   ]
  },
  {
   "cell_type": "code",
   "execution_count": null,
   "id": "3bc6b5cf-0c26-43f7-b62e-37408c2808c4",
   "metadata": {},
   "outputs": [],
   "source": [
    "resources_panel = pn.Column(pn.layout.VSpacer(),  cpu_usage_trend, mem_usage_trend)"
   ]
  },
  {
   "cell_type": "code",
   "execution_count": null,
   "id": "a76d1584-e415-4968-9a31-28cf924789ff",
   "metadata": {},
   "outputs": [],
   "source": [
    "layout = pn.Column()"
   ]
  },
  {
   "cell_type": "code",
   "execution_count": null,
   "id": "fdc9fbb6-9a0e-43e8-b21d-718d417a8e33",
   "metadata": {},
   "outputs": [],
   "source": [
    "layout.append(create_curve(df, 'time', 'ey'))\n",
    "layout.append(create_curve(df, 'time', 'ex'))\n",
    "layout.append(create_curve(df, 'time', 'hx'))"
   ]
  },
  {
   "cell_type": "code",
   "execution_count": null,
   "id": "dcabb2f8-bae3-4c4c-9ff1-d53218da21f6",
   "metadata": {},
   "outputs": [],
   "source": [
    "set_param_to_all(layout, width=1100, height=190)"
   ]
  },
  {
   "cell_type": "code",
   "execution_count": null,
   "id": "d69dd78e-3c80-4224-9633-ec37780a682f",
   "metadata": {},
   "outputs": [],
   "source": [
    "pn.Row(resources_panel, layout)"
   ]
  },
  {
   "cell_type": "code",
   "execution_count": null,
   "id": "ce5fafe5-9669-4221-bf6a-dbdc3cf1f67d",
   "metadata": {},
   "outputs": [],
   "source": [
    "layout.append(create_curve(df2, 'time', 'ey'))\n",
    "layout.append(create_curve(df2, 'time', 'ex'))\n",
    "layout.append(create_curve(df2, 'time', 'hx'))"
   ]
  }
 ],
 "metadata": {
  "kernelspec": {
   "display_name": "Python 3 (ipykernel)",
   "language": "python",
   "name": "python3"
  },
  "language_info": {
   "codemirror_mode": {
    "name": "ipython",
    "version": 3
   },
   "file_extension": ".py",
   "mimetype": "text/x-python",
   "name": "python",
   "nbconvert_exporter": "python",
   "pygments_lexer": "ipython3",
   "version": "3.9.11"
  }
 },
 "nbformat": 4,
 "nbformat_minor": 5
}
