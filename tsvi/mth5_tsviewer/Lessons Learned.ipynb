{
 "cells": [
  {
   "cell_type": "markdown",
   "id": "e21e9231-d901-4ebd-8429-2cc04de7ff00",
   "metadata": {},
   "source": [
    "Some things to be aware of between Datashader and Annotators. Datashader converts a holoviews.element\n",
    "into a holoviews.core.spaces.DynamicMap. When .compose() -ing an Annotator, it requires elements, not DynamicMaps.\n",
    "This means that the annotator won't work on a Datashaded plot.\n",
    "\n",
    "One work around is to create a second plot that does not dynamically change between element and DynamicMap\n",
    "with the push of a button and have this plot be used for the annotator. This works but it means that there are\n",
    "two different plot objects created for each plot and doubles the loading time for each plot.\n",
    "\n",
    "This was observed in a previous version of the annotator function. Since changing how the annotator works, it no longer applies and we can have datashader work on our annotated plots"
   ]
  },
  {
   "cell_type": "markdown",
   "id": "0a4763fd-ba49-4fb8-bb13-01d93f841d96",
   "metadata": {},
   "source": [
    "Panel button on click functions"
   ]
  },
  {
   "cell_type": "markdown",
   "id": "07ca1ac8-49f7-4b36-a37b-af92459c1d29",
   "metadata": {},
   "source": [
    "Bokeh vs Matplotlib"
   ]
  },
  {
   "cell_type": "markdown",
   "id": "68150037-6e5e-40d6-8a58-ec39453630a9",
   "metadata": {},
   "source": [
    "Last label in annotator not saving to csv"
   ]
  },
  {
   "cell_type": "markdown",
   "id": "0a17f10c-9431-4963-b0d9-b60614f3a335",
   "metadata": {},
   "source": [
    "One dictionary to rule them all, keyed by the selected channels"
   ]
  },
  {
   "cell_type": "code",
   "execution_count": null,
   "id": "3e544421-449a-4c30-8a4c-05f7d7ca7c82",
   "metadata": {},
   "outputs": [],
   "source": []
  }
 ],
 "metadata": {
  "kernelspec": {
   "display_name": "Python 3 (ipykernel)",
   "language": "python",
   "name": "python3"
  },
  "language_info": {
   "codemirror_mode": {
    "name": "ipython",
    "version": 3
   },
   "file_extension": ".py",
   "mimetype": "text/x-python",
   "name": "python",
   "nbconvert_exporter": "python",
   "pygments_lexer": "ipython3",
   "version": "3.9.15"
  }
 },
 "nbformat": 4,
 "nbformat_minor": 5
}
